{
 "cells": [
  {
   "cell_type": "code",
   "execution_count": 59,
   "metadata": {
    "collapsed": true
   },
   "outputs": [],
   "source": [
    "import numpy as np"
   ]
  },
  {
   "cell_type": "code",
   "execution_count": 140,
   "metadata": {},
   "outputs": [],
   "source": [
    "a = np.arange(1,17)\n",
    "print(a)"
   ]
  },
  {
   "cell_type": "code",
   "execution_count": 161,
   "metadata": {},
   "outputs": [],
   "source": [
    "x = np.array([0.45, 5, 1, 6, 1.6, 6.31, 2.16, 6.63, 2.91, 6.97, 3.93,7.33, 5.3, 7.7, 7.16, 8.4])\n",
    "xu = np.array([5.00, 6.00, 6.31, 6.63, 6.97, 7.33, 7.70])\n",
    "# xu=np.array([14.47, 14.76, 15.39, 14.52])\n",
    "xl = np.array([1.00, 1.60, 2.16, 2.91, 3.93, 5.30, 7.16])"
   ]
  },
  {
   "cell_type": "code",
   "execution_count": 162,
   "metadata": {},
   "outputs": [],
   "source": [
    "def array_add_x1(x, step):\n",
    "    result = [x[0]]\n",
    "    sum_temp = x[0]\n",
    "    for i in range(1,len(x)):\n",
    "        sum_temp += step * x[i]\n",
    "        result.append(sum_temp)\n",
    "    return np.array(result)\n"
   ]
  },
  {
   "cell_type": "code",
   "execution_count": 167,
   "metadata": {},
   "outputs": [
    {
     "name": "stdout",
     "output_type": "stream",
     "text": [
      "[ 5.   17.   29.62 42.88 56.82 71.48 86.88]\n[ 1.    4.2   8.52 14.34 22.2  32.8  47.12]\n"
     ]
    }
   ],
   "source": [
    "xu1 = array_add_x1(xu, 2)\n",
    "xl1 = array_add_x1(xl,2)\n",
    "print(xu1)\n",
    "print(xl1)\n"
   ]
  },
  {
   "cell_type": "code",
   "execution_count": 164,
   "metadata": {},
   "outputs": [],
   "source": [
    "def z_array(x1):\n",
    "    result = []\n",
    "    for i in range(1, len(x1)):\n",
    "        result.append(0.5 * (x1[i] + x1[i - 1]))\n",
    "    return np.array(result)\n"
   ]
  },
  {
   "cell_type": "code",
   "execution_count": 169,
   "metadata": {},
   "outputs": [
    {
     "name": "stdout",
     "output_type": "stream",
     "text": [
      "[11.   23.31 36.25 49.85 64.15 79.18]\n[ 2.6   6.36 11.43 18.27 27.5  39.96]\n"
     ]
    }
   ],
   "source": [
    "zu = z_array(xu1)\n",
    "zl=z_array(xl1)\n",
    "print(zu)\n",
    "print(zl)"
   ]
  },
  {
   "cell_type": "code",
   "execution_count": 170,
   "metadata": {},
   "outputs": [
    {
     "name": "stdout",
     "output_type": "stream",
     "text": [
      "[[-11.     1.  ]\n [-23.31   1.  ]\n [-36.25   1.  ]\n [-49.85   1.  ]\n [-64.15   1.  ]\n [-79.18   1.  ]]\n[-0.02494548  5.72681303]\n-229.57314285714315\n-8.144660041841016\n"
     ]
    }
   ],
   "source": [
    "Bu = np.vstack((-zu, np.ones(len(zu)))).T\n",
    "Yu = xu.T[1:]\n",
    "Au = np.linalg.inv(Bu.T.dot(Bu)).dot(Bu.T).dot(Yu)\n",
    "Bl = np.vstack((-zl, np.ones(len(zl)))).T\n",
    "Yl = xl.T[1:]\n",
    "Al = np.linalg.inv(Bl.T.dot(Bl)).dot(Bl.T).dot(Yl)\n",
    "print(Bu)\n",
    "print(Au)\n",
    "print(Au[1]/Au[0])\n",
    "print(Al[1]/Al[0])\n"
   ]
  },
  {
   "cell_type": "code",
   "execution_count": null,
   "metadata": {},
   "outputs": [],
   "source": []
  }
 ],
 "metadata": {
  "kernelspec": {
   "display_name": "Python 2",
   "language": "python",
   "name": "python2"
  },
  "language_info": {
   "codemirror_mode": {
    "name": "ipython",
    "version": 2
   },
   "file_extension": ".py",
   "mimetype": "text/x-python",
   "name": "python",
   "nbconvert_exporter": "python",
   "pygments_lexer": "ipython2",
   "version": "2.7.6"
  }
 },
 "nbformat": 4,
 "nbformat_minor": 0
}
